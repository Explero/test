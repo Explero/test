{
 "cells": [
  {
   "cell_type": "code",
   "execution_count": 4,
   "metadata": {},
   "outputs": [
    {
     "name": "stdout",
     "output_type": "stream",
     "text": [
      "hdjdjud\n",
      "0\n",
      "1\n",
      "2\n",
      "3\n",
      "4\n",
      "\n",
      "1\n",
      "jdjdjs\n",
      "1\n",
      "jdjdjs\n",
      "4\n",
      "jdjdjs\n",
      "27\n",
      "jdjdjs\n",
      "256\n",
      "jdjdjs\n",
      "3125\n",
      "jdjdjs\n",
      "46656\n",
      "jdjdjs\n",
      "823543\n",
      "jdjdjs\n",
      "16777216\n",
      "jdjdjs\n",
      "387420489\n",
      "jdjdjs\n"
     ]
    }
   ],
   "source": [
    "print('hdjdjud')\n",
    "for i in range(0,5):\n",
    "    print(i)\n",
    "    i+=1\n",
    "print(   )\n",
    "for i in range(0,10):\n",
    "    print(i**i)\n",
    "    i+=1\n",
    "    print('jdjdjs')\n",
    "    if i>10:\n",
    "        print('jsdojdios')\n",
    "        print('adnkmaf')\n",
    "        print('jdsMDK')\n",
    "        if i<10:\n",
    "            print('jsdkjd')\n",
    "            print('kadpjdio')            \n"
   ]
  },
  {
   "cell_type": "markdown",
   "metadata": {},
   "source": []
  }
 ],
 "metadata": {
  "kernelspec": {
   "display_name": "Python 3",
   "language": "python",
   "name": "python3"
  },
  "language_info": {
   "codemirror_mode": {
    "name": "ipython",
    "version": 3
   },
   "file_extension": ".py",
   "mimetype": "text/x-python",
   "name": "python",
   "nbconvert_exporter": "python",
   "pygments_lexer": "ipython3",
   "version": "3.9.9"
  },
  "orig_nbformat": 4
 },
 "nbformat": 4,
 "nbformat_minor": 2
}
